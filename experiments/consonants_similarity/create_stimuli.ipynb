{
 "nbformat": 4,
 "nbformat_minor": 2,
 "metadata": {
  "language_info": {
   "name": "python",
   "codemirror_mode": {
    "name": "ipython",
    "version": 3
   },
   "version": "3.10.9-final"
  },
  "orig_nbformat": 2,
  "file_extension": ".py",
  "mimetype": "text/x-python",
  "name": "python",
  "npconvert_exporter": "python",
  "pygments_lexer": "ipython3",
  "version": 3,
  "kernelspec": {
   "name": "python310964bitpsyv9venva37e5c4ff7dc4c28a344b1f5757c8ece",
   "display_name": "Python 3.10.9 64-bit ('psyv9': venv)"
  }
 },
 "cells": [
  {
   "cell_type": "code",
   "execution_count": 1,
   "metadata": {},
   "outputs": [],
   "source": [
    "import pandas as pd\n",
    "import numpy as np"
   ]
  },
  {
   "cell_type": "code",
   "execution_count": 44,
   "metadata": {},
   "outputs": [],
   "source": [
    "fpath = \"female/internationalphoneticassociation-org/JH\"\n",
    "mpath = \"male/internationalphoneticassociation-org/JW\"\n",
    "stim_list = [\n",
    "    \"Alveolar_nasal.mp3\",\n",
    "    \"Bilabial_nasal.mp3\",\n",
    "    \"Voiced_alveolar_fricative.mp3\",\n",
    "    \"Voiced_alveolar_plosive.mp3\",\n",
    "    \"Voiced_bilabial_plosive.mp3\",\n",
    "    \"Voiced_dental_fricative.mp3\",\n",
    "    \"Voiced_labiodental_fricative.mp3\",\n",
    "    \"Voiced_postalveolar_fricative.mp3\",\n",
    "    \"Voiced_velar_plosive.mp3\",\n",
    "    \"Voiceless_alveolar_fricative.mp3\",\n",
    "    \"Voiceless_alveolar_plosive.mp3\",\n",
    "    \"Voiceless_bilabial_plosive.mp3\",\n",
    "    \"Voiceless_dental_fricative.mp3\",\n",
    "    \"Voiceless_labiodental_fricative.mp3\",\n",
    "    \"Voiceless_postalveolar_fricative.mp3\",\n",
    "    \"Voiceless_velar_plosive.mp3\"\n",
    "]"
   ]
  },
  {
   "cell_type": "code",
   "execution_count": 34,
   "metadata": {},
   "outputs": [
    {
     "data": {
      "text/html": "<div>\n<style scoped>\n    .dataframe tbody tr th:only-of-type {\n        vertical-align: middle;\n    }\n\n    .dataframe tbody tr th {\n        vertical-align: top;\n    }\n\n    .dataframe thead th {\n        text-align: right;\n    }\n</style>\n<table border=\"1\" class=\"dataframe\">\n  <thead>\n    <tr style=\"text-align: right;\">\n      <th></th>\n      <th>stim_id</th>\n      <th>stimulus</th>\n      <th>sex</th>\n      <th>dataset</th>\n      <th>speaker</th>\n    </tr>\n  </thead>\n  <tbody>\n    <tr>\n      <th>0</th>\n      <td>0</td>\n      <td>Alveolar_nasal.mp3</td>\n      <td>male</td>\n      <td>internationalphoneticassociation-org</td>\n      <td>JW</td>\n    </tr>\n    <tr>\n      <th>1</th>\n      <td>1</td>\n      <td>Bilabial_nasal.mp3</td>\n      <td>male</td>\n      <td>internationalphoneticassociation-org</td>\n      <td>JW</td>\n    </tr>\n    <tr>\n      <th>2</th>\n      <td>2</td>\n      <td>Voiced_alveolar_fricative.mp3</td>\n      <td>male</td>\n      <td>internationalphoneticassociation-org</td>\n      <td>JW</td>\n    </tr>\n    <tr>\n      <th>3</th>\n      <td>3</td>\n      <td>Voiced_alveolar_plosive.mp3</td>\n      <td>male</td>\n      <td>internationalphoneticassociation-org</td>\n      <td>JW</td>\n    </tr>\n    <tr>\n      <th>4</th>\n      <td>4</td>\n      <td>Voiced_bilabial_plosive.mp3</td>\n      <td>male</td>\n      <td>internationalphoneticassociation-org</td>\n      <td>JW</td>\n    </tr>\n    <tr>\n      <th>5</th>\n      <td>5</td>\n      <td>Voiced_dental_fricative.mp3</td>\n      <td>male</td>\n      <td>internationalphoneticassociation-org</td>\n      <td>JW</td>\n    </tr>\n    <tr>\n      <th>6</th>\n      <td>6</td>\n      <td>Voiced_labiodental_fricative.mp3</td>\n      <td>male</td>\n      <td>internationalphoneticassociation-org</td>\n      <td>JW</td>\n    </tr>\n    <tr>\n      <th>7</th>\n      <td>7</td>\n      <td>Voiced_postalveolar_fricative.mp3</td>\n      <td>male</td>\n      <td>internationalphoneticassociation-org</td>\n      <td>JW</td>\n    </tr>\n    <tr>\n      <th>8</th>\n      <td>8</td>\n      <td>Voiced_velar_plosive.mp3</td>\n      <td>male</td>\n      <td>internationalphoneticassociation-org</td>\n      <td>JW</td>\n    </tr>\n    <tr>\n      <th>9</th>\n      <td>9</td>\n      <td>Voiceless_alveolar_fricative.mp3</td>\n      <td>male</td>\n      <td>internationalphoneticassociation-org</td>\n      <td>JW</td>\n    </tr>\n    <tr>\n      <th>10</th>\n      <td>10</td>\n      <td>Voiceless_alveolar_plosive.mp3</td>\n      <td>male</td>\n      <td>internationalphoneticassociation-org</td>\n      <td>JW</td>\n    </tr>\n    <tr>\n      <th>11</th>\n      <td>11</td>\n      <td>Voiceless_bilabial_plosive.mp3</td>\n      <td>male</td>\n      <td>internationalphoneticassociation-org</td>\n      <td>JW</td>\n    </tr>\n    <tr>\n      <th>12</th>\n      <td>12</td>\n      <td>Voiceless_dental_fricative.mp3</td>\n      <td>male</td>\n      <td>internationalphoneticassociation-org</td>\n      <td>JW</td>\n    </tr>\n    <tr>\n      <th>13</th>\n      <td>13</td>\n      <td>Voiceless_labiodental_fricative.mp3</td>\n      <td>male</td>\n      <td>internationalphoneticassociation-org</td>\n      <td>JW</td>\n    </tr>\n    <tr>\n      <th>14</th>\n      <td>14</td>\n      <td>Voiceless_postalveolar_fricative.mp3</td>\n      <td>male</td>\n      <td>internationalphoneticassociation-org</td>\n      <td>JW</td>\n    </tr>\n    <tr>\n      <th>15</th>\n      <td>15</td>\n      <td>Voiceless_velar_plosive.mp3</td>\n      <td>male</td>\n      <td>internationalphoneticassociation-org</td>\n      <td>JW</td>\n    </tr>\n  </tbody>\n</table>\n</div>",
      "text/plain": "    stim_id                              stimulus   sex  \\\n0         0                    Alveolar_nasal.mp3  male   \n1         1                    Bilabial_nasal.mp3  male   \n2         2         Voiced_alveolar_fricative.mp3  male   \n3         3           Voiced_alveolar_plosive.mp3  male   \n4         4           Voiced_bilabial_plosive.mp3  male   \n5         5           Voiced_dental_fricative.mp3  male   \n6         6      Voiced_labiodental_fricative.mp3  male   \n7         7     Voiced_postalveolar_fricative.mp3  male   \n8         8              Voiced_velar_plosive.mp3  male   \n9         9      Voiceless_alveolar_fricative.mp3  male   \n10       10        Voiceless_alveolar_plosive.mp3  male   \n11       11        Voiceless_bilabial_plosive.mp3  male   \n12       12        Voiceless_dental_fricative.mp3  male   \n13       13   Voiceless_labiodental_fricative.mp3  male   \n14       14  Voiceless_postalveolar_fricative.mp3  male   \n15       15           Voiceless_velar_plosive.mp3  male   \n\n                                 dataset speaker  \n0   internationalphoneticassociation-org      JW  \n1   internationalphoneticassociation-org      JW  \n2   internationalphoneticassociation-org      JW  \n3   internationalphoneticassociation-org      JW  \n4   internationalphoneticassociation-org      JW  \n5   internationalphoneticassociation-org      JW  \n6   internationalphoneticassociation-org      JW  \n7   internationalphoneticassociation-org      JW  \n8   internationalphoneticassociation-org      JW  \n9   internationalphoneticassociation-org      JW  \n10  internationalphoneticassociation-org      JW  \n11  internationalphoneticassociation-org      JW  \n12  internationalphoneticassociation-org      JW  \n13  internationalphoneticassociation-org      JW  \n14  internationalphoneticassociation-org      JW  \n15  internationalphoneticassociation-org      JW  "
     },
     "execution_count": 34,
     "metadata": {},
     "output_type": "execute_result"
    }
   ],
   "source": [
    "stim_id = []\n",
    "stim_file = []\n",
    "sex = []\n",
    "counter = 0\n",
    "for s in [\"male\"]:\n",
    "    for stim in stim_list:\n",
    "        stim_id.append(counter)\n",
    "        stim_file.append(stim)\n",
    "        sex.append(s)\n",
    "        counter += 1\n",
    "\n",
    "df = pd.DataFrame({\n",
    "    \"stim_id\": stim_id,\n",
    "    \"stimulus\": stim_file,\n",
    "    \"sex\": sex,\n",
    "    \"dataset\": [\"internationalphoneticassociation-org\" for _ in range(len(stim_file))],\n",
    "    \"speaker\": [\"JW\" for _ in range(len(stim_file))]\n",
    "})\n",
    "\n",
    "df       "
   ]
  },
  {
   "cell_type": "code",
   "execution_count": 45,
   "metadata": {},
   "outputs": [],
   "source": [
    "df.to_csv(\"vocal_consonant_stimuli_male.csv\", index = False)"
   ]
  },
  {
   "cell_type": "code",
   "execution_count": 46,
   "metadata": {},
   "outputs": [],
   "source": [
    "counter = 0\n",
    "pair_id = []\n",
    "stim_1 = []\n",
    "stim_2 = []\n",
    "idx_1 = []\n",
    "idx_2 = []\n",
    "sex_1 = []\n",
    "sex_2 = []\n",
    "stim_id = []\n",
    "\n",
    "male_stimuli = df.copy()\n",
    "\n",
    "for i in range(len(stim_list)):\n",
    "    for j in range(i+1, len(stim_list)):\n",
    "        stim_id.append(counter)\n",
    "        stim_1.append(stim_list[i])\n",
    "        stim_2.append(stim_list[j])\n",
    "        idx_1.append(i)\n",
    "        idx_2.append(j)\n",
    "        sex_1.append(\"male\")\n",
    "        sex_2.append(\"male\")\n",
    "        counter += 1\n",
    "        \n",
    "male_pairs = pd.DataFrame({\n",
    "    \"id\": stim_id,\n",
    "    \"stim_1\": stim_1,\n",
    "    \"stim_2\": stim_2,\n",
    "    \"idx_1\": idx_1,\n",
    "    \"idx_2\": idx_2,\n",
    "    \"sex_1\": sex_1,\n",
    "    \"sex_2\": sex_2,\n",
    "    \"dataset_1\": [\"internationalphoneticassociation-org\" for _ in range(len(stim_id))],\n",
    "    \"dataset_2\": [\"internationalphoneticassociation-org\" for _ in range(len(stim_id))],\n",
    "    \"speaker_1\": [\"JW\" for _ in range(len(stim_id))],\n",
    "    \"speaker_2\": [\"JW\" for _ in range(len(stim_id))]\n",
    "})"
   ]
  },
  {
   "cell_type": "code",
   "execution_count": 47,
   "metadata": {},
   "outputs": [
    {
     "data": {
      "text/html": "<div>\n<style scoped>\n    .dataframe tbody tr th:only-of-type {\n        vertical-align: middle;\n    }\n\n    .dataframe tbody tr th {\n        vertical-align: top;\n    }\n\n    .dataframe thead th {\n        text-align: right;\n    }\n</style>\n<table border=\"1\" class=\"dataframe\">\n  <thead>\n    <tr style=\"text-align: right;\">\n      <th></th>\n      <th>id</th>\n      <th>stim_1</th>\n      <th>stim_2</th>\n      <th>idx_1</th>\n      <th>idx_2</th>\n      <th>sex_1</th>\n      <th>sex_2</th>\n      <th>dataset_1</th>\n      <th>dataset_2</th>\n      <th>speaker_1</th>\n      <th>speaker_2</th>\n    </tr>\n  </thead>\n  <tbody>\n    <tr>\n      <th>0</th>\n      <td>0</td>\n      <td>Alveolar_nasal.mp3</td>\n      <td>Bilabial_nasal.mp3</td>\n      <td>0</td>\n      <td>1</td>\n      <td>male</td>\n      <td>male</td>\n      <td>internationalphoneticassociation-org</td>\n      <td>internationalphoneticassociation-org</td>\n      <td>JW</td>\n      <td>JW</td>\n    </tr>\n    <tr>\n      <th>1</th>\n      <td>1</td>\n      <td>Alveolar_nasal.mp3</td>\n      <td>Voiced_alveolar_fricative.mp3</td>\n      <td>0</td>\n      <td>2</td>\n      <td>male</td>\n      <td>male</td>\n      <td>internationalphoneticassociation-org</td>\n      <td>internationalphoneticassociation-org</td>\n      <td>JW</td>\n      <td>JW</td>\n    </tr>\n    <tr>\n      <th>2</th>\n      <td>2</td>\n      <td>Alveolar_nasal.mp3</td>\n      <td>Voiced_alveolar_plosive.mp3</td>\n      <td>0</td>\n      <td>3</td>\n      <td>male</td>\n      <td>male</td>\n      <td>internationalphoneticassociation-org</td>\n      <td>internationalphoneticassociation-org</td>\n      <td>JW</td>\n      <td>JW</td>\n    </tr>\n    <tr>\n      <th>3</th>\n      <td>3</td>\n      <td>Alveolar_nasal.mp3</td>\n      <td>Voiced_bilabial_plosive.mp3</td>\n      <td>0</td>\n      <td>4</td>\n      <td>male</td>\n      <td>male</td>\n      <td>internationalphoneticassociation-org</td>\n      <td>internationalphoneticassociation-org</td>\n      <td>JW</td>\n      <td>JW</td>\n    </tr>\n    <tr>\n      <th>4</th>\n      <td>4</td>\n      <td>Alveolar_nasal.mp3</td>\n      <td>Voiced_dental_fricative.mp3</td>\n      <td>0</td>\n      <td>5</td>\n      <td>male</td>\n      <td>male</td>\n      <td>internationalphoneticassociation-org</td>\n      <td>internationalphoneticassociation-org</td>\n      <td>JW</td>\n      <td>JW</td>\n    </tr>\n    <tr>\n      <th>...</th>\n      <td>...</td>\n      <td>...</td>\n      <td>...</td>\n      <td>...</td>\n      <td>...</td>\n      <td>...</td>\n      <td>...</td>\n      <td>...</td>\n      <td>...</td>\n      <td>...</td>\n      <td>...</td>\n    </tr>\n    <tr>\n      <th>115</th>\n      <td>115</td>\n      <td>Voiceless_dental_fricative.mp3</td>\n      <td>Voiceless_postalveolar_fricative.mp3</td>\n      <td>12</td>\n      <td>14</td>\n      <td>male</td>\n      <td>male</td>\n      <td>internationalphoneticassociation-org</td>\n      <td>internationalphoneticassociation-org</td>\n      <td>JW</td>\n      <td>JW</td>\n    </tr>\n    <tr>\n      <th>116</th>\n      <td>116</td>\n      <td>Voiceless_dental_fricative.mp3</td>\n      <td>Voiceless_velar_plosive.mp3</td>\n      <td>12</td>\n      <td>15</td>\n      <td>male</td>\n      <td>male</td>\n      <td>internationalphoneticassociation-org</td>\n      <td>internationalphoneticassociation-org</td>\n      <td>JW</td>\n      <td>JW</td>\n    </tr>\n    <tr>\n      <th>117</th>\n      <td>117</td>\n      <td>Voiceless_labiodental_fricative.mp3</td>\n      <td>Voiceless_postalveolar_fricative.mp3</td>\n      <td>13</td>\n      <td>14</td>\n      <td>male</td>\n      <td>male</td>\n      <td>internationalphoneticassociation-org</td>\n      <td>internationalphoneticassociation-org</td>\n      <td>JW</td>\n      <td>JW</td>\n    </tr>\n    <tr>\n      <th>118</th>\n      <td>118</td>\n      <td>Voiceless_labiodental_fricative.mp3</td>\n      <td>Voiceless_velar_plosive.mp3</td>\n      <td>13</td>\n      <td>15</td>\n      <td>male</td>\n      <td>male</td>\n      <td>internationalphoneticassociation-org</td>\n      <td>internationalphoneticassociation-org</td>\n      <td>JW</td>\n      <td>JW</td>\n    </tr>\n    <tr>\n      <th>119</th>\n      <td>119</td>\n      <td>Voiceless_postalveolar_fricative.mp3</td>\n      <td>Voiceless_velar_plosive.mp3</td>\n      <td>14</td>\n      <td>15</td>\n      <td>male</td>\n      <td>male</td>\n      <td>internationalphoneticassociation-org</td>\n      <td>internationalphoneticassociation-org</td>\n      <td>JW</td>\n      <td>JW</td>\n    </tr>\n  </tbody>\n</table>\n<p>120 rows × 11 columns</p>\n</div>",
      "text/plain": "      id                                stim_1  \\\n0      0                    Alveolar_nasal.mp3   \n1      1                    Alveolar_nasal.mp3   \n2      2                    Alveolar_nasal.mp3   \n3      3                    Alveolar_nasal.mp3   \n4      4                    Alveolar_nasal.mp3   \n..   ...                                   ...   \n115  115        Voiceless_dental_fricative.mp3   \n116  116        Voiceless_dental_fricative.mp3   \n117  117   Voiceless_labiodental_fricative.mp3   \n118  118   Voiceless_labiodental_fricative.mp3   \n119  119  Voiceless_postalveolar_fricative.mp3   \n\n                                   stim_2  idx_1  idx_2 sex_1 sex_2  \\\n0                      Bilabial_nasal.mp3      0      1  male  male   \n1           Voiced_alveolar_fricative.mp3      0      2  male  male   \n2             Voiced_alveolar_plosive.mp3      0      3  male  male   \n3             Voiced_bilabial_plosive.mp3      0      4  male  male   \n4             Voiced_dental_fricative.mp3      0      5  male  male   \n..                                    ...    ...    ...   ...   ...   \n115  Voiceless_postalveolar_fricative.mp3     12     14  male  male   \n116           Voiceless_velar_plosive.mp3     12     15  male  male   \n117  Voiceless_postalveolar_fricative.mp3     13     14  male  male   \n118           Voiceless_velar_plosive.mp3     13     15  male  male   \n119           Voiceless_velar_plosive.mp3     14     15  male  male   \n\n                                dataset_1  \\\n0    internationalphoneticassociation-org   \n1    internationalphoneticassociation-org   \n2    internationalphoneticassociation-org   \n3    internationalphoneticassociation-org   \n4    internationalphoneticassociation-org   \n..                                    ...   \n115  internationalphoneticassociation-org   \n116  internationalphoneticassociation-org   \n117  internationalphoneticassociation-org   \n118  internationalphoneticassociation-org   \n119  internationalphoneticassociation-org   \n\n                                dataset_2 speaker_1 speaker_2  \n0    internationalphoneticassociation-org        JW        JW  \n1    internationalphoneticassociation-org        JW        JW  \n2    internationalphoneticassociation-org        JW        JW  \n3    internationalphoneticassociation-org        JW        JW  \n4    internationalphoneticassociation-org        JW        JW  \n..                                    ...       ...       ...  \n115  internationalphoneticassociation-org        JW        JW  \n116  internationalphoneticassociation-org        JW        JW  \n117  internationalphoneticassociation-org        JW        JW  \n118  internationalphoneticassociation-org        JW        JW  \n119  internationalphoneticassociation-org        JW        JW  \n\n[120 rows x 11 columns]"
     },
     "execution_count": 47,
     "metadata": {},
     "output_type": "execute_result"
    }
   ],
   "source": [
    "male_pairs"
   ]
  },
  {
   "cell_type": "code",
   "execution_count": 53,
   "metadata": {},
   "outputs": [
    {
     "data": {
      "text/html": "<div>\n<style scoped>\n    .dataframe tbody tr th:only-of-type {\n        vertical-align: middle;\n    }\n\n    .dataframe tbody tr th {\n        vertical-align: top;\n    }\n\n    .dataframe thead th {\n        text-align: right;\n    }\n</style>\n<table border=\"1\" class=\"dataframe\">\n  <thead>\n    <tr style=\"text-align: right;\">\n      <th></th>\n      <th>stim_id</th>\n      <th>stimulus</th>\n      <th>sex</th>\n      <th>dataset</th>\n      <th>speaker</th>\n    </tr>\n  </thead>\n  <tbody>\n    <tr>\n      <th>0</th>\n      <td>0</td>\n      <td>Alveolar_nasal.mp3</td>\n      <td>female</td>\n      <td>internationalphoneticassociation-org</td>\n      <td>JH</td>\n    </tr>\n    <tr>\n      <th>1</th>\n      <td>1</td>\n      <td>Bilabial_nasal.mp3</td>\n      <td>female</td>\n      <td>internationalphoneticassociation-org</td>\n      <td>JH</td>\n    </tr>\n    <tr>\n      <th>2</th>\n      <td>2</td>\n      <td>Voiced_alveolar_fricative.mp3</td>\n      <td>female</td>\n      <td>internationalphoneticassociation-org</td>\n      <td>JH</td>\n    </tr>\n    <tr>\n      <th>3</th>\n      <td>3</td>\n      <td>Voiced_alveolar_plosive.mp3</td>\n      <td>female</td>\n      <td>internationalphoneticassociation-org</td>\n      <td>JH</td>\n    </tr>\n    <tr>\n      <th>4</th>\n      <td>4</td>\n      <td>Voiced_bilabial_plosive.mp3</td>\n      <td>female</td>\n      <td>internationalphoneticassociation-org</td>\n      <td>JH</td>\n    </tr>\n    <tr>\n      <th>5</th>\n      <td>5</td>\n      <td>Voiced_dental_fricative.mp3</td>\n      <td>female</td>\n      <td>internationalphoneticassociation-org</td>\n      <td>JH</td>\n    </tr>\n    <tr>\n      <th>6</th>\n      <td>6</td>\n      <td>Voiced_labiodental_fricative.mp3</td>\n      <td>female</td>\n      <td>internationalphoneticassociation-org</td>\n      <td>JH</td>\n    </tr>\n    <tr>\n      <th>7</th>\n      <td>7</td>\n      <td>Voiced_postalveolar_fricative.mp3</td>\n      <td>female</td>\n      <td>internationalphoneticassociation-org</td>\n      <td>JH</td>\n    </tr>\n    <tr>\n      <th>8</th>\n      <td>8</td>\n      <td>Voiced_velar_plosive.mp3</td>\n      <td>female</td>\n      <td>internationalphoneticassociation-org</td>\n      <td>JH</td>\n    </tr>\n    <tr>\n      <th>9</th>\n      <td>9</td>\n      <td>Voiceless_alveolar_fricative.mp3</td>\n      <td>female</td>\n      <td>internationalphoneticassociation-org</td>\n      <td>JH</td>\n    </tr>\n    <tr>\n      <th>10</th>\n      <td>10</td>\n      <td>Voiceless_alveolar_plosive.mp3</td>\n      <td>female</td>\n      <td>internationalphoneticassociation-org</td>\n      <td>JH</td>\n    </tr>\n    <tr>\n      <th>11</th>\n      <td>11</td>\n      <td>Voiceless_bilabial_plosive.mp3</td>\n      <td>female</td>\n      <td>internationalphoneticassociation-org</td>\n      <td>JH</td>\n    </tr>\n    <tr>\n      <th>12</th>\n      <td>12</td>\n      <td>Voiceless_dental_fricative.mp3</td>\n      <td>female</td>\n      <td>internationalphoneticassociation-org</td>\n      <td>JH</td>\n    </tr>\n    <tr>\n      <th>13</th>\n      <td>13</td>\n      <td>Voiceless_labiodental_fricative.mp3</td>\n      <td>female</td>\n      <td>internationalphoneticassociation-org</td>\n      <td>JH</td>\n    </tr>\n    <tr>\n      <th>14</th>\n      <td>14</td>\n      <td>Voiceless_postalveolar_fricative.mp3</td>\n      <td>female</td>\n      <td>internationalphoneticassociation-org</td>\n      <td>JH</td>\n    </tr>\n    <tr>\n      <th>15</th>\n      <td>15</td>\n      <td>Voiceless_velar_plosive.mp3</td>\n      <td>female</td>\n      <td>internationalphoneticassociation-org</td>\n      <td>JH</td>\n    </tr>\n  </tbody>\n</table>\n</div>",
      "text/plain": "    stim_id                              stimulus     sex  \\\n0         0                    Alveolar_nasal.mp3  female   \n1         1                    Bilabial_nasal.mp3  female   \n2         2         Voiced_alveolar_fricative.mp3  female   \n3         3           Voiced_alveolar_plosive.mp3  female   \n4         4           Voiced_bilabial_plosive.mp3  female   \n5         5           Voiced_dental_fricative.mp3  female   \n6         6      Voiced_labiodental_fricative.mp3  female   \n7         7     Voiced_postalveolar_fricative.mp3  female   \n8         8              Voiced_velar_plosive.mp3  female   \n9         9      Voiceless_alveolar_fricative.mp3  female   \n10       10        Voiceless_alveolar_plosive.mp3  female   \n11       11        Voiceless_bilabial_plosive.mp3  female   \n12       12        Voiceless_dental_fricative.mp3  female   \n13       13   Voiceless_labiodental_fricative.mp3  female   \n14       14  Voiceless_postalveolar_fricative.mp3  female   \n15       15           Voiceless_velar_plosive.mp3  female   \n\n                                 dataset speaker  \n0   internationalphoneticassociation-org      JH  \n1   internationalphoneticassociation-org      JH  \n2   internationalphoneticassociation-org      JH  \n3   internationalphoneticassociation-org      JH  \n4   internationalphoneticassociation-org      JH  \n5   internationalphoneticassociation-org      JH  \n6   internationalphoneticassociation-org      JH  \n7   internationalphoneticassociation-org      JH  \n8   internationalphoneticassociation-org      JH  \n9   internationalphoneticassociation-org      JH  \n10  internationalphoneticassociation-org      JH  \n11  internationalphoneticassociation-org      JH  \n12  internationalphoneticassociation-org      JH  \n13  internationalphoneticassociation-org      JH  \n14  internationalphoneticassociation-org      JH  \n15  internationalphoneticassociation-org      JH  "
     },
     "execution_count": 53,
     "metadata": {},
     "output_type": "execute_result"
    }
   ],
   "source": [
    "stim_id = []\n",
    "stim_file = []\n",
    "sex = []\n",
    "counter = 0\n",
    "for s in [\"female\"]:\n",
    "    for stim in stim_list:\n",
    "        stim_id.append(counter)\n",
    "        stim_file.append(stim)\n",
    "        sex.append(s)\n",
    "        counter += 1\n",
    "\n",
    "df = pd.DataFrame({\n",
    "    \"stim_id\": stim_id,\n",
    "    \"stimulus\": stim_file,\n",
    "    \"sex\": sex,\n",
    "    \"dataset\": [\"internationalphoneticassociation-org\" for _ in range(len(stim_file))],\n",
    "    \"speaker\": [\"JH\" for _ in range(len(stim_file))]\n",
    "})\n",
    "\n",
    "df  "
   ]
  },
  {
   "cell_type": "code",
   "execution_count": 54,
   "metadata": {},
   "outputs": [],
   "source": [
    "df.to_csv(\"vocal_consonant_stimuli_female.csv\", index = False)"
   ]
  },
  {
   "cell_type": "code",
   "execution_count": 56,
   "metadata": {},
   "outputs": [],
   "source": [
    "counter = 0\n",
    "pair_id = []\n",
    "stim_1 = []\n",
    "stim_2 = []\n",
    "idx_1 = []\n",
    "idx_2 = []\n",
    "sex_1 = []\n",
    "sex_2 = []\n",
    "stim_id = []\n",
    "\n",
    "female_stimuli = df.copy()\n",
    "\n",
    "for i in range(len(stim_list)):\n",
    "    for j in range(i+1, len(stim_list)):\n",
    "        stim_id.append(counter + len(male_pairs))\n",
    "        stim_1.append(stim_list[i])\n",
    "        stim_2.append(stim_list[j])\n",
    "        idx_1.append(i)\n",
    "        idx_2.append(j)\n",
    "        sex_1.append(\"female\")\n",
    "        sex_2.append(\"female\")\n",
    "        counter += 1\n",
    "        \n",
    "female_pairs = pd.DataFrame({\n",
    "    \"id\": stim_id,\n",
    "    \"stim_1\": stim_1,\n",
    "    \"stim_2\": stim_2,\n",
    "    \"idx_1\": idx_1,\n",
    "    \"idx_2\": idx_2,\n",
    "    \"sex_1\": sex_1,\n",
    "    \"sex_2\": sex_2,\n",
    "    \"dataset_1\": [\"internationalphoneticassociation-org\" for _ in range(len(stim_id))],\n",
    "    \"dataset_2\": [\"internationalphoneticassociation-org\" for _ in range(len(stim_id))],\n",
    "    \"speaker_1\": [\"JH\" for _ in range(len(stim_id))],\n",
    "    \"speaker_2\": [\"JH\" for _ in range(len(stim_id))]\n",
    "})"
   ]
  },
  {
   "cell_type": "code",
   "execution_count": 57,
   "metadata": {},
   "outputs": [
    {
     "data": {
      "text/html": "<div>\n<style scoped>\n    .dataframe tbody tr th:only-of-type {\n        vertical-align: middle;\n    }\n\n    .dataframe tbody tr th {\n        vertical-align: top;\n    }\n\n    .dataframe thead th {\n        text-align: right;\n    }\n</style>\n<table border=\"1\" class=\"dataframe\">\n  <thead>\n    <tr style=\"text-align: right;\">\n      <th></th>\n      <th>id</th>\n      <th>stim_1</th>\n      <th>stim_2</th>\n      <th>idx_1</th>\n      <th>idx_2</th>\n      <th>sex_1</th>\n      <th>sex_2</th>\n      <th>dataset_1</th>\n      <th>dataset_2</th>\n      <th>speaker_1</th>\n      <th>speaker_2</th>\n    </tr>\n  </thead>\n  <tbody>\n    <tr>\n      <th>0</th>\n      <td>120</td>\n      <td>Alveolar_nasal.mp3</td>\n      <td>Bilabial_nasal.mp3</td>\n      <td>0</td>\n      <td>1</td>\n      <td>female</td>\n      <td>female</td>\n      <td>internationalphoneticassociation-org</td>\n      <td>internationalphoneticassociation-org</td>\n      <td>JH</td>\n      <td>JH</td>\n    </tr>\n    <tr>\n      <th>1</th>\n      <td>121</td>\n      <td>Alveolar_nasal.mp3</td>\n      <td>Voiced_alveolar_fricative.mp3</td>\n      <td>0</td>\n      <td>2</td>\n      <td>female</td>\n      <td>female</td>\n      <td>internationalphoneticassociation-org</td>\n      <td>internationalphoneticassociation-org</td>\n      <td>JH</td>\n      <td>JH</td>\n    </tr>\n    <tr>\n      <th>2</th>\n      <td>122</td>\n      <td>Alveolar_nasal.mp3</td>\n      <td>Voiced_alveolar_plosive.mp3</td>\n      <td>0</td>\n      <td>3</td>\n      <td>female</td>\n      <td>female</td>\n      <td>internationalphoneticassociation-org</td>\n      <td>internationalphoneticassociation-org</td>\n      <td>JH</td>\n      <td>JH</td>\n    </tr>\n    <tr>\n      <th>3</th>\n      <td>123</td>\n      <td>Alveolar_nasal.mp3</td>\n      <td>Voiced_bilabial_plosive.mp3</td>\n      <td>0</td>\n      <td>4</td>\n      <td>female</td>\n      <td>female</td>\n      <td>internationalphoneticassociation-org</td>\n      <td>internationalphoneticassociation-org</td>\n      <td>JH</td>\n      <td>JH</td>\n    </tr>\n    <tr>\n      <th>4</th>\n      <td>124</td>\n      <td>Alveolar_nasal.mp3</td>\n      <td>Voiced_dental_fricative.mp3</td>\n      <td>0</td>\n      <td>5</td>\n      <td>female</td>\n      <td>female</td>\n      <td>internationalphoneticassociation-org</td>\n      <td>internationalphoneticassociation-org</td>\n      <td>JH</td>\n      <td>JH</td>\n    </tr>\n    <tr>\n      <th>...</th>\n      <td>...</td>\n      <td>...</td>\n      <td>...</td>\n      <td>...</td>\n      <td>...</td>\n      <td>...</td>\n      <td>...</td>\n      <td>...</td>\n      <td>...</td>\n      <td>...</td>\n      <td>...</td>\n    </tr>\n    <tr>\n      <th>115</th>\n      <td>235</td>\n      <td>Voiceless_dental_fricative.mp3</td>\n      <td>Voiceless_postalveolar_fricative.mp3</td>\n      <td>12</td>\n      <td>14</td>\n      <td>female</td>\n      <td>female</td>\n      <td>internationalphoneticassociation-org</td>\n      <td>internationalphoneticassociation-org</td>\n      <td>JH</td>\n      <td>JH</td>\n    </tr>\n    <tr>\n      <th>116</th>\n      <td>236</td>\n      <td>Voiceless_dental_fricative.mp3</td>\n      <td>Voiceless_velar_plosive.mp3</td>\n      <td>12</td>\n      <td>15</td>\n      <td>female</td>\n      <td>female</td>\n      <td>internationalphoneticassociation-org</td>\n      <td>internationalphoneticassociation-org</td>\n      <td>JH</td>\n      <td>JH</td>\n    </tr>\n    <tr>\n      <th>117</th>\n      <td>237</td>\n      <td>Voiceless_labiodental_fricative.mp3</td>\n      <td>Voiceless_postalveolar_fricative.mp3</td>\n      <td>13</td>\n      <td>14</td>\n      <td>female</td>\n      <td>female</td>\n      <td>internationalphoneticassociation-org</td>\n      <td>internationalphoneticassociation-org</td>\n      <td>JH</td>\n      <td>JH</td>\n    </tr>\n    <tr>\n      <th>118</th>\n      <td>238</td>\n      <td>Voiceless_labiodental_fricative.mp3</td>\n      <td>Voiceless_velar_plosive.mp3</td>\n      <td>13</td>\n      <td>15</td>\n      <td>female</td>\n      <td>female</td>\n      <td>internationalphoneticassociation-org</td>\n      <td>internationalphoneticassociation-org</td>\n      <td>JH</td>\n      <td>JH</td>\n    </tr>\n    <tr>\n      <th>119</th>\n      <td>239</td>\n      <td>Voiceless_postalveolar_fricative.mp3</td>\n      <td>Voiceless_velar_plosive.mp3</td>\n      <td>14</td>\n      <td>15</td>\n      <td>female</td>\n      <td>female</td>\n      <td>internationalphoneticassociation-org</td>\n      <td>internationalphoneticassociation-org</td>\n      <td>JH</td>\n      <td>JH</td>\n    </tr>\n  </tbody>\n</table>\n<p>120 rows × 11 columns</p>\n</div>",
      "text/plain": "      id                                stim_1  \\\n0    120                    Alveolar_nasal.mp3   \n1    121                    Alveolar_nasal.mp3   \n2    122                    Alveolar_nasal.mp3   \n3    123                    Alveolar_nasal.mp3   \n4    124                    Alveolar_nasal.mp3   \n..   ...                                   ...   \n115  235        Voiceless_dental_fricative.mp3   \n116  236        Voiceless_dental_fricative.mp3   \n117  237   Voiceless_labiodental_fricative.mp3   \n118  238   Voiceless_labiodental_fricative.mp3   \n119  239  Voiceless_postalveolar_fricative.mp3   \n\n                                   stim_2  idx_1  idx_2   sex_1   sex_2  \\\n0                      Bilabial_nasal.mp3      0      1  female  female   \n1           Voiced_alveolar_fricative.mp3      0      2  female  female   \n2             Voiced_alveolar_plosive.mp3      0      3  female  female   \n3             Voiced_bilabial_plosive.mp3      0      4  female  female   \n4             Voiced_dental_fricative.mp3      0      5  female  female   \n..                                    ...    ...    ...     ...     ...   \n115  Voiceless_postalveolar_fricative.mp3     12     14  female  female   \n116           Voiceless_velar_plosive.mp3     12     15  female  female   \n117  Voiceless_postalveolar_fricative.mp3     13     14  female  female   \n118           Voiceless_velar_plosive.mp3     13     15  female  female   \n119           Voiceless_velar_plosive.mp3     14     15  female  female   \n\n                                dataset_1  \\\n0    internationalphoneticassociation-org   \n1    internationalphoneticassociation-org   \n2    internationalphoneticassociation-org   \n3    internationalphoneticassociation-org   \n4    internationalphoneticassociation-org   \n..                                    ...   \n115  internationalphoneticassociation-org   \n116  internationalphoneticassociation-org   \n117  internationalphoneticassociation-org   \n118  internationalphoneticassociation-org   \n119  internationalphoneticassociation-org   \n\n                                dataset_2 speaker_1 speaker_2  \n0    internationalphoneticassociation-org        JH        JH  \n1    internationalphoneticassociation-org        JH        JH  \n2    internationalphoneticassociation-org        JH        JH  \n3    internationalphoneticassociation-org        JH        JH  \n4    internationalphoneticassociation-org        JH        JH  \n..                                    ...       ...       ...  \n115  internationalphoneticassociation-org        JH        JH  \n116  internationalphoneticassociation-org        JH        JH  \n117  internationalphoneticassociation-org        JH        JH  \n118  internationalphoneticassociation-org        JH        JH  \n119  internationalphoneticassociation-org        JH        JH  \n\n[120 rows x 11 columns]"
     },
     "execution_count": 57,
     "metadata": {},
     "output_type": "execute_result"
    }
   ],
   "source": [
    "female_pairs"
   ]
  },
  {
   "cell_type": "code",
   "execution_count": 58,
   "metadata": {},
   "outputs": [
    {
     "data": {
      "text/html": "<div>\n<style scoped>\n    .dataframe tbody tr th:only-of-type {\n        vertical-align: middle;\n    }\n\n    .dataframe tbody tr th {\n        vertical-align: top;\n    }\n\n    .dataframe thead th {\n        text-align: right;\n    }\n</style>\n<table border=\"1\" class=\"dataframe\">\n  <thead>\n    <tr style=\"text-align: right;\">\n      <th></th>\n      <th>id</th>\n      <th>stim_1</th>\n      <th>stim_2</th>\n      <th>idx_1</th>\n      <th>idx_2</th>\n      <th>sex_1</th>\n      <th>sex_2</th>\n      <th>dataset_1</th>\n      <th>dataset_2</th>\n      <th>speaker_1</th>\n      <th>speaker_2</th>\n    </tr>\n  </thead>\n  <tbody>\n    <tr>\n      <th>0</th>\n      <td>0</td>\n      <td>Alveolar_nasal.mp3</td>\n      <td>Bilabial_nasal.mp3</td>\n      <td>0</td>\n      <td>1</td>\n      <td>male</td>\n      <td>male</td>\n      <td>internationalphoneticassociation-org</td>\n      <td>internationalphoneticassociation-org</td>\n      <td>JW</td>\n      <td>JW</td>\n    </tr>\n    <tr>\n      <th>1</th>\n      <td>1</td>\n      <td>Alveolar_nasal.mp3</td>\n      <td>Voiced_alveolar_fricative.mp3</td>\n      <td>0</td>\n      <td>2</td>\n      <td>male</td>\n      <td>male</td>\n      <td>internationalphoneticassociation-org</td>\n      <td>internationalphoneticassociation-org</td>\n      <td>JW</td>\n      <td>JW</td>\n    </tr>\n    <tr>\n      <th>2</th>\n      <td>2</td>\n      <td>Alveolar_nasal.mp3</td>\n      <td>Voiced_alveolar_plosive.mp3</td>\n      <td>0</td>\n      <td>3</td>\n      <td>male</td>\n      <td>male</td>\n      <td>internationalphoneticassociation-org</td>\n      <td>internationalphoneticassociation-org</td>\n      <td>JW</td>\n      <td>JW</td>\n    </tr>\n    <tr>\n      <th>3</th>\n      <td>3</td>\n      <td>Alveolar_nasal.mp3</td>\n      <td>Voiced_bilabial_plosive.mp3</td>\n      <td>0</td>\n      <td>4</td>\n      <td>male</td>\n      <td>male</td>\n      <td>internationalphoneticassociation-org</td>\n      <td>internationalphoneticassociation-org</td>\n      <td>JW</td>\n      <td>JW</td>\n    </tr>\n    <tr>\n      <th>4</th>\n      <td>4</td>\n      <td>Alveolar_nasal.mp3</td>\n      <td>Voiced_dental_fricative.mp3</td>\n      <td>0</td>\n      <td>5</td>\n      <td>male</td>\n      <td>male</td>\n      <td>internationalphoneticassociation-org</td>\n      <td>internationalphoneticassociation-org</td>\n      <td>JW</td>\n      <td>JW</td>\n    </tr>\n    <tr>\n      <th>...</th>\n      <td>...</td>\n      <td>...</td>\n      <td>...</td>\n      <td>...</td>\n      <td>...</td>\n      <td>...</td>\n      <td>...</td>\n      <td>...</td>\n      <td>...</td>\n      <td>...</td>\n      <td>...</td>\n    </tr>\n    <tr>\n      <th>235</th>\n      <td>235</td>\n      <td>Voiceless_dental_fricative.mp3</td>\n      <td>Voiceless_postalveolar_fricative.mp3</td>\n      <td>12</td>\n      <td>14</td>\n      <td>female</td>\n      <td>female</td>\n      <td>internationalphoneticassociation-org</td>\n      <td>internationalphoneticassociation-org</td>\n      <td>JH</td>\n      <td>JH</td>\n    </tr>\n    <tr>\n      <th>236</th>\n      <td>236</td>\n      <td>Voiceless_dental_fricative.mp3</td>\n      <td>Voiceless_velar_plosive.mp3</td>\n      <td>12</td>\n      <td>15</td>\n      <td>female</td>\n      <td>female</td>\n      <td>internationalphoneticassociation-org</td>\n      <td>internationalphoneticassociation-org</td>\n      <td>JH</td>\n      <td>JH</td>\n    </tr>\n    <tr>\n      <th>237</th>\n      <td>237</td>\n      <td>Voiceless_labiodental_fricative.mp3</td>\n      <td>Voiceless_postalveolar_fricative.mp3</td>\n      <td>13</td>\n      <td>14</td>\n      <td>female</td>\n      <td>female</td>\n      <td>internationalphoneticassociation-org</td>\n      <td>internationalphoneticassociation-org</td>\n      <td>JH</td>\n      <td>JH</td>\n    </tr>\n    <tr>\n      <th>238</th>\n      <td>238</td>\n      <td>Voiceless_labiodental_fricative.mp3</td>\n      <td>Voiceless_velar_plosive.mp3</td>\n      <td>13</td>\n      <td>15</td>\n      <td>female</td>\n      <td>female</td>\n      <td>internationalphoneticassociation-org</td>\n      <td>internationalphoneticassociation-org</td>\n      <td>JH</td>\n      <td>JH</td>\n    </tr>\n    <tr>\n      <th>239</th>\n      <td>239</td>\n      <td>Voiceless_postalveolar_fricative.mp3</td>\n      <td>Voiceless_velar_plosive.mp3</td>\n      <td>14</td>\n      <td>15</td>\n      <td>female</td>\n      <td>female</td>\n      <td>internationalphoneticassociation-org</td>\n      <td>internationalphoneticassociation-org</td>\n      <td>JH</td>\n      <td>JH</td>\n    </tr>\n  </tbody>\n</table>\n<p>240 rows × 11 columns</p>\n</div>",
      "text/plain": "      id                                stim_1  \\\n0      0                    Alveolar_nasal.mp3   \n1      1                    Alveolar_nasal.mp3   \n2      2                    Alveolar_nasal.mp3   \n3      3                    Alveolar_nasal.mp3   \n4      4                    Alveolar_nasal.mp3   \n..   ...                                   ...   \n235  235        Voiceless_dental_fricative.mp3   \n236  236        Voiceless_dental_fricative.mp3   \n237  237   Voiceless_labiodental_fricative.mp3   \n238  238   Voiceless_labiodental_fricative.mp3   \n239  239  Voiceless_postalveolar_fricative.mp3   \n\n                                   stim_2  idx_1  idx_2   sex_1   sex_2  \\\n0                      Bilabial_nasal.mp3      0      1    male    male   \n1           Voiced_alveolar_fricative.mp3      0      2    male    male   \n2             Voiced_alveolar_plosive.mp3      0      3    male    male   \n3             Voiced_bilabial_plosive.mp3      0      4    male    male   \n4             Voiced_dental_fricative.mp3      0      5    male    male   \n..                                    ...    ...    ...     ...     ...   \n235  Voiceless_postalveolar_fricative.mp3     12     14  female  female   \n236           Voiceless_velar_plosive.mp3     12     15  female  female   \n237  Voiceless_postalveolar_fricative.mp3     13     14  female  female   \n238           Voiceless_velar_plosive.mp3     13     15  female  female   \n239           Voiceless_velar_plosive.mp3     14     15  female  female   \n\n                                dataset_1  \\\n0    internationalphoneticassociation-org   \n1    internationalphoneticassociation-org   \n2    internationalphoneticassociation-org   \n3    internationalphoneticassociation-org   \n4    internationalphoneticassociation-org   \n..                                    ...   \n235  internationalphoneticassociation-org   \n236  internationalphoneticassociation-org   \n237  internationalphoneticassociation-org   \n238  internationalphoneticassociation-org   \n239  internationalphoneticassociation-org   \n\n                                dataset_2 speaker_1 speaker_2  \n0    internationalphoneticassociation-org        JW        JW  \n1    internationalphoneticassociation-org        JW        JW  \n2    internationalphoneticassociation-org        JW        JW  \n3    internationalphoneticassociation-org        JW        JW  \n4    internationalphoneticassociation-org        JW        JW  \n..                                    ...       ...       ...  \n235  internationalphoneticassociation-org        JH        JH  \n236  internationalphoneticassociation-org        JH        JH  \n237  internationalphoneticassociation-org        JH        JH  \n238  internationalphoneticassociation-org        JH        JH  \n239  internationalphoneticassociation-org        JH        JH  \n\n[240 rows x 11 columns]"
     },
     "execution_count": 58,
     "metadata": {},
     "output_type": "execute_result"
    }
   ],
   "source": [
    "all_pairs = pd.concat([male_pairs,female_pairs], ignore_index = True)\n",
    "all_pairs"
   ]
  },
  {
   "cell_type": "code",
   "execution_count": 59,
   "metadata": {},
   "outputs": [],
   "source": [
    "all_pairs.to_csv(\"vocal_consonant_stimuli_pairs.csv\", index = False)"
   ]
  },
  {
   "cell_type": "code",
   "execution_count": null,
   "metadata": {},
   "outputs": [],
   "source": []
  }
 ]
}